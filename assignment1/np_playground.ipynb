{
 "cells": [
  {
   "cell_type": "code",
   "execution_count": 1,
   "metadata": {},
   "outputs": [],
   "source": [
    "import numpy as np\n"
   ]
  },
  {
   "cell_type": "code",
   "execution_count": 2,
   "metadata": {},
   "outputs": [
    {
     "data": {
      "text/plain": [
       "array([[ 1.,  2.],\n",
       "       [13.,  4.],\n",
       "       [ 5.,  6.]], dtype=float32)"
      ]
     },
     "execution_count": 2,
     "metadata": {},
     "output_type": "execute_result"
    }
   ],
   "source": [
    "x = np.array([[1,2], [13, 4],[5,6]], dtype=np.float32)\n",
    "x\n"
   ]
  },
  {
   "cell_type": "code",
   "execution_count": 3,
   "metadata": {},
   "outputs": [
    {
     "data": {
      "text/plain": [
       "(3, 2)"
      ]
     },
     "execution_count": 3,
     "metadata": {},
     "output_type": "execute_result"
    }
   ],
   "source": [
    "x.shape"
   ]
  },
  {
   "cell_type": "code",
   "execution_count": 4,
   "metadata": {},
   "outputs": [
    {
     "data": {
      "text/plain": [
       "array([[ 2.,  4.],\n",
       "       [26.,  8.],\n",
       "       [10., 12.]], dtype=float32)"
      ]
     },
     "execution_count": 4,
     "metadata": {},
     "output_type": "execute_result"
    }
   ],
   "source": [
    "y= 2*x\n",
    "y"
   ]
  },
  {
   "cell_type": "code",
   "execution_count": 5,
   "metadata": {},
   "outputs": [
    {
     "name": "stdout",
     "output_type": "stream",
     "text": [
      "[1. 2.]\n",
      "[13.  4.]\n",
      "[5. 6.]\n"
     ]
    }
   ],
   "source": [
    "for i in range(x.shape[0]):\n",
    "    \n",
    "    print(x[i])"
   ]
  },
  {
   "cell_type": "code",
   "execution_count": 6,
   "metadata": {},
   "outputs": [
    {
     "name": "stdout",
     "output_type": "stream",
     "text": [
      "[2. 4.]\n",
      "[26.  8.]\n",
      "[10. 12.]\n"
     ]
    }
   ],
   "source": [
    "for j in range(y.shape[0]):\n",
    "    print(y[j])"
   ]
  },
  {
   "cell_type": "code",
   "execution_count": 7,
   "metadata": {},
   "outputs": [],
   "source": [
    "discts = np.zeros((3,3))\n",
    "for i in range(x.shape[0]):\n",
    "    for j in range(y.shape[0]):\n",
    "        x_img = x[i]\n",
    "        y_img = y[j]\n",
    "        discts[i,j] = np.sqrt(np.sum(np.square(x_img - y_img)))"
   ]
  },
  {
   "cell_type": "code",
   "execution_count": 8,
   "metadata": {},
   "outputs": [
    {
     "name": "stdout",
     "output_type": "stream",
     "text": [
      "[[ 2.23606801 25.70992088 13.45362377]\n",
      " [11.         13.60147095  8.54400349]\n",
      " [ 3.60555124 21.0950222   7.81024981]]\n"
     ]
    }
   ],
   "source": [
    "print (discts)\n",
    "\n",
    "# k = 2\n",
    "# z= np.argsort(discts[0])[:k]\n",
    "# zz=discts[z]\n",
    "# values, counts = np.unique(zz, return_counts=True)\n",
    "# print (values, counts)\n",
    "# a= counts.argsort()\n",
    "# print(a)"
   ]
  },
  {
   "cell_type": "code",
   "execution_count": 9,
   "metadata": {},
   "outputs": [
    {
     "name": "stdout",
     "output_type": "stream",
     "text": [
      "[[ 2.23606801 25.70992088 13.45362377]\n",
      " [11.         13.60147095  8.54400349]\n",
      " [ 3.60555124 21.0950222   7.81024981]]\n"
     ]
    }
   ],
   "source": [
    "discts = np.zeros((3,3))\n",
    "for i in range(x.shape[0]):\n",
    "    arr=x[i]-y\n",
    "    discts[i, :] = np.sqrt(np.sum(np.square(arr),axis=1))\n",
    "print(discts)"
   ]
  },
  {
   "cell_type": "code",
   "execution_count": 10,
   "metadata": {},
   "outputs": [
    {
     "name": "stdout",
     "output_type": "stream",
     "text": [
      "[1. 2.]\n",
      "[[ 2.  4.]\n",
      " [26.  8.]\n",
      " [10. 12.]]\n",
      "[[ -1.  -2.]\n",
      " [-25.  -6.]\n",
      " [ -9. -10.]]\n",
      "[13.  4.]\n",
      "[[ 2.  4.]\n",
      " [26.  8.]\n",
      " [10. 12.]]\n",
      "[[ 11.   0.]\n",
      " [-13.  -4.]\n",
      " [  3.  -8.]]\n",
      "[5. 6.]\n",
      "[[ 2.  4.]\n",
      " [26.  8.]\n",
      " [10. 12.]]\n",
      "[[  3.   2.]\n",
      " [-21.  -2.]\n",
      " [ -5.  -6.]]\n",
      "[[ 2.23606801 25.70992088 13.45362377]\n",
      " [11.         13.60147095  8.54400349]\n",
      " [ 3.60555124 21.0950222   7.81024981]]\n"
     ]
    }
   ],
   "source": [
    "discts = np.zeros((3,3))\n",
    "for i in range(x.shape[0]):\n",
    "    print(x[i])\n",
    "    print(y)\n",
    "    arr=x[i]-y\n",
    "    print(arr)\n",
    "    discts[i, :] = np.sqrt(np.sum(np.square(arr),axis=1))\n",
    "print(discts)"
   ]
  },
  {
   "cell_type": "code",
   "execution_count": 11,
   "metadata": {},
   "outputs": [
    {
     "name": "stdout",
     "output_type": "stream",
     "text": [
      "[[  1.   4.]\n",
      " [169.  16.]\n",
      " [ 25.  36.]]\n"
     ]
    }
   ],
   "source": [
    "discts = np.zeros((3,3))\n",
    "arr = np.multiply(np.subtract(x[0:3],y),np.subtract(x,y[0:3]))\n",
    "print(arr)"
   ]
  },
  {
   "cell_type": "code",
   "execution_count": 12,
   "metadata": {},
   "outputs": [
    {
     "name": "stdout",
     "output_type": "stream",
     "text": [
      "[0. 1. 2. 3. 4. 5. 6. 7. 8.]\n",
      "[array([0., 1., 2.]), array([3., 4., 5.]), array([6., 7., 8.])]\n"
     ]
    }
   ],
   "source": [
    "x = np.arange(9.0)\n",
    "print(x)\n",
    "x_train_fold = np.split(x,3)\n",
    "print(x_train_fold)"
   ]
  },
  {
   "cell_type": "code",
   "execution_count": 41,
   "metadata": {},
   "outputs": [
    {
     "name": "stdout",
     "output_type": "stream",
     "text": [
      "i= 0 loss 1600\n",
      "i= 1 loss 1451.9392026624\n",
      "i= 2 loss 1315.448504566532\n",
      "i= 3 loss 1189.8949898298238\n",
      "i= 4 loss 1074.6492740696422\n",
      "i= 5 loss 969.0887171098545\n",
      "i= 6 loss 872.6006543801751\n",
      "i= 7 loss 784.5855180926369\n",
      "i= 8 loss 704.4597457502421\n",
      "i= 9 loss 631.6583987378829\n",
      "i= 10 loss 565.6374370551855\n",
      "i= 11 loss 505.8756172024625\n",
      "i= 12 loss 451.8759985026559\n",
      "i= 13 loss 403.16705856235865\n",
      "i= 14 loss 359.30343111055487\n",
      "i= 15 loss 319.8662891907373\n",
      "i= 16 loss 284.46340380231493\n",
      "i= 17 loss 252.72891284265305\n",
      "i= 18 loss 224.32283788917897\n",
      "i= 19 loss 198.9303873020132\n",
      "i= 20 loss 176.26108364549088\n",
      "i= 21 loss 156.04775183382958\n",
      "i= 22 loss 138.045401990892\n",
      "i= 23 loss 122.03003803438065\n",
      "i= 24 loss 107.7974196734324\n",
      "i= 25 loss 95.16180203109943\n",
      "i= 26 loss 83.95467361911494\n",
      "i= 27 loss 74.02351001703741\n",
      "i= 28 loss 65.23055742614054\n",
      "i= 29 loss 57.451657338328836\n",
      "i= 30 loss 50.575120917329066\n",
      "i= 31 loss 44.50065935055268\n",
      "i= 32 loss 39.138374397853426\n",
      "i= 33 loss 34.40781162946582\n",
      "i= 34 loss 30.237077393355477\n",
      "i= 35 loss 26.562019360372172\n",
      "i= 36 loss 23.325469539136442\n",
      "i= 37 loss 20.476547905207287\n",
      "i= 38 loss 17.97002422434414\n",
      "i= 39 loss 15.765735241912292\n",
      "i= 40 loss 13.828054135534392\n",
      "i= 41 loss 12.125408963693259\n",
      "i= 42 loss 10.629846769059917\n",
      "i= 43 loss 9.316639993996088\n",
      "i= 44 loss 8.163931921391322\n",
      "i= 45 loss 7.152417953315731\n",
      "i= 46 loss 6.265059671499003\n",
      "i= 47 loss 5.486828777835641\n",
      "i= 48 loss 4.804478182108633\n",
      "i= 49 loss 4.206337681476359\n",
      "i= 50 loss 3.6821318569059143\n",
      "i= 51 loss 3.2228179915941624\n",
      "i= 52 loss 2.820441992462593\n",
      "i= 53 loss 2.4680104657119304\n",
      "i= 54 loss 2.1593772595703378\n",
      "i= 55 loss 1.88914294063365\n",
      "i= 56 loss 1.6525658139181463\n",
      "i= 57 loss 1.4454832305835277\n",
      "i= 58 loss 1.2642420511743635\n",
      "i= 59 loss 1.105637246307637\n",
      "i= 60 loss 0.9668577212953448\n",
      "i= 61 loss 0.8454385466336615\n",
      "i= 62 loss 0.7392188630903911\n",
      "i= 63 loss 0.6463048088015831\n",
      "i= 64 loss 0.5650368868963711\n",
      "i= 65 loss 0.4939612562615519\n",
      "i= 66 loss 0.4318044856851954\n",
      "i= 67 loss 0.37745136332085055\n",
      "i= 68 loss 0.3299253997050498\n",
      "i= 69 loss 0.28837170393059564\n",
      "i= 70 loss 0.25204194948863645\n",
      "i= 71 loss 0.22028117917237297\n",
      "i= 72 loss 0.19251622768318813\n",
      "i= 73 loss 0.1682455665630165\n",
      "i= 74 loss 0.14703039913265023\n",
      "i= 75 loss 0.1284868535492266\n",
      "i= 76 loss 0.11227914018932768\n",
      "i= 77 loss 0.09811355556839077\n",
      "i= 78 loss 0.08573322915153408\n",
      "i= 79 loss 0.07491352190203172\n",
      "i= 80 loss 0.06545799643530074\n",
      "i= 81 loss 0.05719488836573065\n",
      "i= 82 loss 0.049974016998600636\n",
      "i= 83 loss 0.04366408106206196\n",
      "i= 84 loss 0.038150291814052974\n",
      "i= 85 loss 0.0333323016997511\n",
      "i= 86 loss 0.029122391871694867\n",
      "i= 87 loss 0.025443886398985354\n",
      "i= 88 loss 0.022229764958225047\n",
      "i= 89 loss 0.019421449282288963\n",
      "i= 90 loss 0.016967741700826974\n",
      "i= 91 loss 0.014823896790421846\n",
      "i= 92 loss 0.012950809506670876\n",
      "i= 93 loss 0.011314305235934494\n",
      "i= 94 loss 0.009884519015064278\n",
      "i= 95 loss 0.008635352755237741\n",
      "i= 96 loss 0.00754400069697388\n",
      "i= 97 loss 0.006590534542774465\n",
      "i= 98 loss 0.005757540781651231\n",
      "i= 99 loss 0.005029803655361831\n",
      "i= 100 loss 0.004394028035249127\n",
      "i= 101 loss 0.003838597195982619\n",
      "i= 102 loss 0.0033533611002742924\n",
      "i= 103 loss 0.0029294513584448363\n",
      "i= 104 loss 0.0025591195076447664\n",
      "i= 105 loss 0.0022355956765596962\n",
      "i= 106 loss 0.0019529650697341775\n",
      "i= 107 loss 0.0017060600279233502\n",
      "i= 108 loss 0.0014903657028089992\n",
      "i= 109 loss 0.0013019376309389402\n",
      "i= 110 loss 0.001137329707526234\n",
      "i= 111 loss 0.00099353124931001\n",
      "i= 112 loss 0.0008679120006309498\n",
      "i= 113 loss 0.0007581740811712052\n",
      "i= 114 loss 0.0006623099998772138\n",
      "i= 115 loss 0.0005785659698665242\n",
      "i= 116 loss 0.0005054098555708731\n",
      "i= 117 loss 0.00044150316758764763\n",
      "i= 118 loss 0.00038567659442618617\n",
      "i= 119 loss 0.0003369086247401869\n",
      "i= 120 loss 0.0002943068699179183\n",
      "i= 121 loss 0.0002570917461064679\n",
      "i= 122 loss 0.0002245822177755592\n",
      "i= 123 loss 0.00019618334248760677\n",
      "i= 124 loss 0.00017137538940612695\n",
      "i= 125 loss 0.00014970433277957854\n",
      "i= 126 loss 0.00013077354672322254\n",
      "i= 127 loss 0.00011423654955476546\n",
      "i= 128 loss 9.979066508696439e-05\n",
      "i= 129 loss 8.717148503673678e-05\n",
      "i= 130 loss 7.614803132548061e-05\n",
      "i= 131 loss 6.651852983805146e-05\n",
      "i= 132 loss 5.810671837852801e-05\n",
      "i= 133 loss 5.075862130803367e-05\n",
      "i= 134 loss 4.433973189716492e-05\n",
      "i= 135 loss 3.873255085868376e-05\n",
      "i= 136 loss 3.3834436046211035e-05\n",
      "i= 137 loss 2.955572399278059e-05\n",
      "i= 138 loss 2.58180889230054e-05\n",
      "i= 139 loss 2.2553109229223518e-05\n",
      "i= 140 loss 1.9701015181411548e-05\n",
      "i= 141 loss 1.7209594964978747e-05\n",
      "i= 142 loss 1.5033239027790979e-05\n",
      "i= 143 loss 1.3132105257549176e-05\n",
      "i= 144 loss 1.147138970783782e-05\n",
      "i= 145 loss 1.0020689533815485e-05\n",
      "i= 146 loss 8.753446477031166e-06\n",
      "i= 147 loss 7.646460718202876e-06\n",
      "i= 148 loss 6.679466198375476e-06\n",
      "i= 149 loss 5.834759639874257e-06\n",
      "i= 150 loss 5.0968764744248805e-06\n",
      "i= 151 loss 4.452307750915791e-06\n",
      "i= 152 loss 3.889252838140208e-06\n",
      "i= 153 loss 3.3974033997540025e-06\n",
      "i= 154 loss 2.967754683949515e-06\n",
      "i= 155 loss 2.5924406772096144e-06\n",
      "i= 156 loss 2.2645901029176355e-06\n",
      "i= 157 loss 1.978200628913199e-06\n",
      "i= 158 loss 1.7280289826101734e-06\n",
      "i= 159 loss 1.509494961330017e-06\n",
      "i= 160 loss 1.3185975810912758e-06\n",
      "i= 161 loss 1.1518418288793265e-06\n",
      "i= 162 loss 1.0061746776633813e-06\n",
      "i= 163 loss 8.78929192742613e-07\n",
      "i= 164 loss 7.677757061367012e-07\n",
      "i= 165 loss 6.706791657338472e-07\n",
      "i= 166 loss 5.858618776163356e-07\n",
      "i= 167 loss 5.117709603134574e-07\n",
      "i= 168 loss 4.470499145441289e-07\n",
      "i= 169 loss 3.9051378831354486e-07\n",
      "i= 170 loss 3.4112748272430635e-07\n",
      "i= 171 loss 2.9798680109395885e-07\n",
      "i= 172 loss 2.603018948286175e-07\n",
      "i= 173 loss 2.2738280259265835e-07\n",
      "i= 174 loss 1.9862681817662807e-07\n",
      "i= 175 loss 1.7350745605737042e-07\n",
      "i= 176 loss 1.5156481227726197e-07\n",
      "i= 177 loss 1.3239714414657575e-07\n",
      "i= 178 loss 1.1565351520957994e-07\n",
      "i= 179 loss 1.0102736986371697e-07\n",
      "i= 180 loss 8.825092095079802e-08\n",
      "i= 181 loss 7.709024685934003e-08\n",
      "i= 182 loss 6.734100877860486e-08\n",
      "i= 183 loss 5.882470951809849e-08\n",
      "i= 184 loss 5.138542548655483e-08\n",
      "i= 185 loss 4.4886951952144394e-08\n",
      "i= 186 loss 3.9210309258238555e-08\n",
      "i= 187 loss 3.4251564502847404e-08\n",
      "i= 188 loss 2.991992864976839e-08\n",
      "i= 189 loss 2.6136094281479593e-08\n",
      "i= 190 loss 2.2830783602313027e-08\n",
      "i= 191 loss 1.9943480020902883e-08\n",
      "i= 192 loss 1.742132019654157e-08\n",
      "i= 193 loss 1.521812612771653e-08\n",
      "i= 194 loss 1.3293559744659574e-08\n",
      "i= 195 loss 1.161238431509246e-08\n",
      "i= 196 loss 1.0143819337860766e-08\n",
      "i= 197 loss 8.86097697561573e-09\n",
      "i= 198 loss 7.7403697570361e-09\n",
      "i= 199 loss 6.7614805608174556e-09\n",
      "3.5145829904530586 5.514582990453053 11.07521152656258 99.99992314697808\n"
     ]
    }
   ],
   "source": [
    "# train\n",
    "a = 2\n",
    "b = 4\n",
    "c = 10\n",
    "y = 100\n",
    "\n",
    "step_size = 0.0001\n",
    "for i in range(200):\n",
    "    ab = (a + b)\n",
    "    x = ab * c\n",
    "\n",
    "    diff = (x - y)\n",
    "    loss = diff ** 2\n",
    "\n",
    "    loss_delta = 1\n",
    "    diff_delta = 2 * diff\n",
    "    x_delta = diff_delta\n",
    "    c_delta =  ab * x_delta\n",
    "    ab_delta = c * x_delta\n",
    "    a_delta = ab_delta\n",
    "    b_delta = ab_delta\n",
    "\n",
    "\n",
    "    a += -step_size * a_delta\n",
    "    b += -step_size * b_delta\n",
    "    c += -step_size * c_delta\n",
    "\n",
    "    if i % 1 == 0:\n",
    "        print('i=',i,'loss', loss)\n",
    "\n",
    "print(a,b,c, (a+b)*c)"
   ]
  }
 ],
 "metadata": {
  "kernelspec": {
   "display_name": "Python 3",
   "language": "python",
   "name": "python3"
  },
  "language_info": {
   "codemirror_mode": {
    "name": "ipython",
    "version": 3
   },
   "file_extension": ".py",
   "mimetype": "text/x-python",
   "name": "python",
   "nbconvert_exporter": "python",
   "pygments_lexer": "ipython3",
   "version": "3.10.7"
  },
  "orig_nbformat": 4,
  "vscode": {
   "interpreter": {
    "hash": "2b6c01eebccfe0750797c084e4aedf3143316cbfb836c58db7e0ca872437af5f"
   }
  }
 },
 "nbformat": 4,
 "nbformat_minor": 2
}
