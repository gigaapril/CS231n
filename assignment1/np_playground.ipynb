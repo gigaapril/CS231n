{
 "cells": [
  {
   "cell_type": "code",
   "execution_count": 4,
   "metadata": {},
   "outputs": [],
   "source": [
    "import numpy as np\n"
   ]
  },
  {
   "cell_type": "code",
   "execution_count": 5,
   "metadata": {},
   "outputs": [
    {
     "data": {
      "text/plain": [
       "array([[ 1.,  2.],\n",
       "       [13.,  4.],\n",
       "       [ 5.,  6.]], dtype=float32)"
      ]
     },
     "execution_count": 5,
     "metadata": {},
     "output_type": "execute_result"
    }
   ],
   "source": [
    "x = np.array([[1,2], [13, 4],[5,6]], dtype=np.float32)\n",
    "x\n"
   ]
  },
  {
   "cell_type": "code",
   "execution_count": 6,
   "metadata": {},
   "outputs": [
    {
     "data": {
      "text/plain": [
       "(3, 2)"
      ]
     },
     "execution_count": 6,
     "metadata": {},
     "output_type": "execute_result"
    }
   ],
   "source": [
    "x.shape"
   ]
  },
  {
   "cell_type": "code",
   "execution_count": 7,
   "metadata": {},
   "outputs": [
    {
     "data": {
      "text/plain": [
       "array([[ 2.,  4.],\n",
       "       [26.,  8.],\n",
       "       [10., 12.]], dtype=float32)"
      ]
     },
     "execution_count": 7,
     "metadata": {},
     "output_type": "execute_result"
    }
   ],
   "source": [
    "y= 2*x\n",
    "y"
   ]
  },
  {
   "cell_type": "code",
   "execution_count": 8,
   "metadata": {},
   "outputs": [
    {
     "name": "stdout",
     "output_type": "stream",
     "text": [
      "[1. 2.]\n",
      "[13.  4.]\n",
      "[5. 6.]\n"
     ]
    }
   ],
   "source": [
    "for i in range(x.shape[0]):\n",
    "    \n",
    "    print(x[i])"
   ]
  },
  {
   "cell_type": "code",
   "execution_count": 9,
   "metadata": {},
   "outputs": [
    {
     "name": "stdout",
     "output_type": "stream",
     "text": [
      "[2. 4.]\n",
      "[26.  8.]\n",
      "[10. 12.]\n"
     ]
    }
   ],
   "source": [
    "for j in range(y.shape[0]):\n",
    "    print(y[j])"
   ]
  },
  {
   "cell_type": "code",
   "execution_count": 10,
   "metadata": {},
   "outputs": [],
   "source": [
    "discts = np.zeros((3,3))\n",
    "for i in range(x.shape[0]):\n",
    "    for j in range(y.shape[0]):\n",
    "        x_img = x[i]\n",
    "        y_img = y[j]\n",
    "        discts[i,j] = np.sqrt(np.sum(np.square(x_img - y_img)))"
   ]
  },
  {
   "cell_type": "code",
   "execution_count": 11,
   "metadata": {},
   "outputs": [
    {
     "name": "stdout",
     "output_type": "stream",
     "text": [
      "[[ 2.23606801 25.70992088 13.45362377]\n",
      " [11.         13.60147095  8.54400349]\n",
      " [ 3.60555124 21.0950222   7.81024981]]\n"
     ]
    }
   ],
   "source": [
    "print (discts)\n",
    "\n",
    "# k = 2\n",
    "# z= np.argsort(discts[0])[:k]\n",
    "# zz=discts[z]\n",
    "# values, counts = np.unique(zz, return_counts=True)\n",
    "# print (values, counts)\n",
    "# a= counts.argsort()\n",
    "# print(a)"
   ]
  },
  {
   "cell_type": "code",
   "execution_count": 12,
   "metadata": {},
   "outputs": [
    {
     "name": "stdout",
     "output_type": "stream",
     "text": [
      "[[ 2.23606801 25.70992088 13.45362377]\n",
      " [11.         13.60147095  8.54400349]\n",
      " [ 3.60555124 21.0950222   7.81024981]]\n"
     ]
    }
   ],
   "source": [
    "discts = np.zeros((3,3))\n",
    "for i in range(x.shape[0]):\n",
    "    arr=x[i]-y\n",
    "    discts[i, :] = np.sqrt(np.sum(np.square(arr),axis=1))\n",
    "print(discts)"
   ]
  },
  {
   "cell_type": "code",
   "execution_count": 13,
   "metadata": {},
   "outputs": [
    {
     "name": "stdout",
     "output_type": "stream",
     "text": [
      "[1. 2.]\n",
      "[[ 2.  4.]\n",
      " [26.  8.]\n",
      " [10. 12.]]\n",
      "[[ -1.  -2.]\n",
      " [-25.  -6.]\n",
      " [ -9. -10.]]\n",
      "[13.  4.]\n",
      "[[ 2.  4.]\n",
      " [26.  8.]\n",
      " [10. 12.]]\n",
      "[[ 11.   0.]\n",
      " [-13.  -4.]\n",
      " [  3.  -8.]]\n",
      "[5. 6.]\n",
      "[[ 2.  4.]\n",
      " [26.  8.]\n",
      " [10. 12.]]\n",
      "[[  3.   2.]\n",
      " [-21.  -2.]\n",
      " [ -5.  -6.]]\n",
      "[[ 2.23606801 25.70992088 13.45362377]\n",
      " [11.         13.60147095  8.54400349]\n",
      " [ 3.60555124 21.0950222   7.81024981]]\n"
     ]
    }
   ],
   "source": [
    "discts = np.zeros((3,3))\n",
    "for i in range(x.shape[0]):\n",
    "    print(x[i])\n",
    "    print(y)\n",
    "    arr=x[i]-y\n",
    "    print(arr)\n",
    "    discts[i, :] = np.sqrt(np.sum(np.square(arr),axis=1))\n",
    "print(discts)"
   ]
  },
  {
   "cell_type": "code",
   "execution_count": 14,
   "metadata": {},
   "outputs": [
    {
     "name": "stdout",
     "output_type": "stream",
     "text": [
      "[[  1.   4.]\n",
      " [169.  16.]\n",
      " [ 25.  36.]]\n"
     ]
    }
   ],
   "source": [
    "discts = np.zeros((3,3))\n",
    "arr = np.multiply(np.subtract(x[0:3],y),np.subtract(x,y[0:3]))\n",
    "print(arr)"
   ]
  },
  {
   "cell_type": "code",
   "execution_count": 20,
   "metadata": {},
   "outputs": [
    {
     "name": "stdout",
     "output_type": "stream",
     "text": [
      "[0. 1. 2. 3. 4. 5. 6. 7. 8.]\n",
      "[array([0., 1., 2.]), array([3., 4., 5.]), array([6., 7., 8.])]\n"
     ]
    }
   ],
   "source": [
    "x = np.arange(9.0)\n",
    "print(x)\n",
    "x_train_fold = np.split(x,3)\n",
    "print(x_train_fold)"
   ]
  },
  {
   "cell_type": "code",
   "execution_count": null,
   "metadata": {},
   "outputs": [],
   "source": []
  }
 ],
 "metadata": {
  "kernelspec": {
   "display_name": "Python 3",
   "language": "python",
   "name": "python3"
  },
  "language_info": {
   "codemirror_mode": {
    "name": "ipython",
    "version": 3
   },
   "file_extension": ".py",
   "mimetype": "text/x-python",
   "name": "python",
   "nbconvert_exporter": "python",
   "pygments_lexer": "ipython3",
   "version": "3.10.7"
  },
  "orig_nbformat": 4,
  "vscode": {
   "interpreter": {
    "hash": "2b6c01eebccfe0750797c084e4aedf3143316cbfb836c58db7e0ca872437af5f"
   }
  }
 },
 "nbformat": 4,
 "nbformat_minor": 2
}
